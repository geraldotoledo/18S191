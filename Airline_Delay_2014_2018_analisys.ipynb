{
  "metadata": {
    "kernelspec": {
      "language": "python",
      "display_name": "Python 3",
      "name": "python3"
    },
    "language_info": {
      "name": "python",
      "version": "3.6.6",
      "mimetype": "text/x-python",
      "codemirror_mode": {
        "name": "ipython",
        "version": 3
      },
      "pygments_lexer": "ipython3",
      "nbconvert_exporter": "python",
      "file_extension": ".py"
    },
    "kaggle": {
      "accelerator": "none",
      "dataSources": [
        {
          "sourceId": 609497,
          "sourceType": "datasetVersion",
          "datasetId": 297485
        }
      ],
      "dockerImageVersionId": 29271,
      "isInternetEnabled": false,
      "language": "python",
      "sourceType": "notebook",
      "isGpuEnabled": false
    },
    "colab": {
      "name": "Airline Delay 2014-2018 analisys",
      "provenance": [],
      "include_colab_link": true
    }
  },
  "nbformat_minor": 0,
  "nbformat": 4,
  "cells": [
    {
      "cell_type": "markdown",
      "metadata": {
        "id": "view-in-github",
        "colab_type": "text"
      },
      "source": [
        "<a href=\"https://colab.research.google.com/github/geraldotoledo/18S191/blob/Fall20-franklin-output/Airline_Delay_2014_2018_analisys.ipynb\" target=\"_parent\"><img src=\"https://colab.research.google.com/assets/colab-badge.svg\" alt=\"Open In Colab\"/></a>"
      ]
    },
    {
      "source": [
        "# IMPORTANT: RUN THIS CELL IN ORDER TO IMPORT YOUR KAGGLE DATA SOURCES,\n",
        "# THEN FEEL FREE TO DELETE THIS CELL.\n",
        "# NOTE: THIS NOTEBOOK ENVIRONMENT DIFFERS FROM KAGGLE'S PYTHON\n",
        "# ENVIRONMENT SO THERE MAY BE MISSING LIBRARIES USED BY YOUR\n",
        "# NOTEBOOK.\n",
        "import kagglehub\n",
        "yuanyuwendymu_airline_delay_and_cancellation_data_2009_2018_path = kagglehub.dataset_download('yuanyuwendymu/airline-delay-and-cancellation-data-2009-2018')\n",
        "\n",
        "print('Data source import complete.')\n"
      ],
      "metadata": {
        "id": "DeFR0c2JWTVv"
      },
      "cell_type": "code",
      "outputs": [],
      "execution_count": null
    },
    {
      "cell_type": "code",
      "source": [
        "import pandas as pd\n",
        "import numpy as np\n",
        "import time\n",
        "import matplotlib.pyplot as plt # plotting\n",
        "import os # accessing directory structure\n",
        "#import seaborn as sns\n",
        "#from fitter import Fitter, get_common_distributions, get_distributions\n",
        "import seaborn as sns\n",
        "from numpy import random\n"
      ],
      "metadata": {
        "execution": {
          "iopub.status.busy": "2024-10-30T16:52:18.615178Z",
          "iopub.execute_input": "2024-10-30T16:52:18.615545Z",
          "iopub.status.idle": "2024-10-30T16:52:19.671586Z",
          "shell.execute_reply.started": "2024-10-30T16:52:18.61549Z",
          "shell.execute_reply": "2024-10-30T16:52:19.670097Z"
        },
        "trusted": true,
        "id": "PwjP4MNdWTVy"
      },
      "execution_count": null,
      "outputs": []
    },
    {
      "cell_type": "code",
      "source": [
        "# Read csv files 2014-2018\n",
        "csv_path_files_list = []\n",
        "for i in range(6,6):  #4,9\n",
        "    csv_path_files_list.append('../input/airline-delay-and-cancellation-data-2009-2018/201'+ str(i) +'.csv')\n",
        "\n",
        "csv_list = []\n",
        "\n",
        "for file in sorted(csv_path_files_list):\n",
        "    csv_list.append(pd.read_csv(file).assign(File_Name = os.path.basename(file)))\n",
        "\n",
        "csv_list_delay = []\n",
        "for csv_list_year in csv_list:\n",
        "    csv_list_delay.append(csv_list_year[(csv_list_year['ARR_DELAY'] > 0)])\n",
        "del csv_list"
      ],
      "metadata": {
        "execution": {
          "iopub.status.busy": "2024-10-30T16:52:34.627775Z",
          "iopub.execute_input": "2024-10-30T16:52:34.628202Z",
          "iopub.status.idle": "2024-10-30T16:52:34.638659Z",
          "shell.execute_reply.started": "2024-10-30T16:52:34.628143Z",
          "shell.execute_reply": "2024-10-30T16:52:34.637501Z"
        },
        "trusted": true,
        "id": "yfVX3XQmWTVz"
      },
      "execution_count": null,
      "outputs": []
    },
    {
      "cell_type": "code",
      "source": [
        "a_with_delay_dest = pd.concat(csv_list_delay, ignore_index=True)"
      ],
      "metadata": {
        "execution": {
          "iopub.status.busy": "2024-10-30T16:52:43.282142Z",
          "iopub.execute_input": "2024-10-30T16:52:43.282585Z",
          "iopub.status.idle": "2024-10-30T16:52:43.479629Z",
          "shell.execute_reply.started": "2024-10-30T16:52:43.282486Z",
          "shell.execute_reply": "2024-10-30T16:52:43.477702Z"
        },
        "trusted": true,
        "id": "YxAZfkl3WTVz",
        "outputId": "f9b32a97-ee49-48f2-caef-10b9750439cc"
      },
      "execution_count": null,
      "outputs": [
        {
          "traceback": [
            "\u001b[0;31m---------------------------------------------------------------------------\u001b[0m",
            "\u001b[0;31mValueError\u001b[0m                                Traceback (most recent call last)",
            "\u001b[0;32m<ipython-input-3-e9d864cf3888>\u001b[0m in \u001b[0;36m<module>\u001b[0;34m\u001b[0m\n\u001b[0;32m----> 1\u001b[0;31m \u001b[0ma_with_delay_dest\u001b[0m \u001b[0;34m=\u001b[0m \u001b[0mpd\u001b[0m\u001b[0;34m.\u001b[0m\u001b[0mconcat\u001b[0m\u001b[0;34m(\u001b[0m\u001b[0mcsv_list_delay\u001b[0m\u001b[0;34m,\u001b[0m \u001b[0mignore_index\u001b[0m\u001b[0;34m=\u001b[0m\u001b[0;32mTrue\u001b[0m\u001b[0;34m)\u001b[0m\u001b[0;34m\u001b[0m\u001b[0m\n\u001b[0m",
            "\u001b[0;32m/opt/conda/lib/python3.6/site-packages/pandas/core/reshape/concat.py\u001b[0m in \u001b[0;36mconcat\u001b[0;34m(objs, axis, join, join_axes, ignore_index, keys, levels, names, verify_integrity, sort, copy)\u001b[0m\n\u001b[1;32m    253\u001b[0m         \u001b[0mverify_integrity\u001b[0m\u001b[0;34m=\u001b[0m\u001b[0mverify_integrity\u001b[0m\u001b[0;34m,\u001b[0m\u001b[0;34m\u001b[0m\u001b[0m\n\u001b[1;32m    254\u001b[0m         \u001b[0mcopy\u001b[0m\u001b[0;34m=\u001b[0m\u001b[0mcopy\u001b[0m\u001b[0;34m,\u001b[0m\u001b[0;34m\u001b[0m\u001b[0m\n\u001b[0;32m--> 255\u001b[0;31m         \u001b[0msort\u001b[0m\u001b[0;34m=\u001b[0m\u001b[0msort\u001b[0m\u001b[0;34m,\u001b[0m\u001b[0;34m\u001b[0m\u001b[0m\n\u001b[0m\u001b[1;32m    256\u001b[0m     )\n\u001b[1;32m    257\u001b[0m \u001b[0;34m\u001b[0m\u001b[0m\n",
            "\u001b[0;32m/opt/conda/lib/python3.6/site-packages/pandas/core/reshape/concat.py\u001b[0m in \u001b[0;36m__init__\u001b[0;34m(self, objs, axis, join, join_axes, keys, levels, names, ignore_index, verify_integrity, copy, sort)\u001b[0m\n\u001b[1;32m    302\u001b[0m \u001b[0;34m\u001b[0m\u001b[0m\n\u001b[1;32m    303\u001b[0m         \u001b[0;32mif\u001b[0m \u001b[0mlen\u001b[0m\u001b[0;34m(\u001b[0m\u001b[0mobjs\u001b[0m\u001b[0;34m)\u001b[0m \u001b[0;34m==\u001b[0m \u001b[0;36m0\u001b[0m\u001b[0;34m:\u001b[0m\u001b[0;34m\u001b[0m\u001b[0m\n\u001b[0;32m--> 304\u001b[0;31m             \u001b[0;32mraise\u001b[0m \u001b[0mValueError\u001b[0m\u001b[0;34m(\u001b[0m\u001b[0;34m\"No objects to concatenate\"\u001b[0m\u001b[0;34m)\u001b[0m\u001b[0;34m\u001b[0m\u001b[0m\n\u001b[0m\u001b[1;32m    305\u001b[0m \u001b[0;34m\u001b[0m\u001b[0m\n\u001b[1;32m    306\u001b[0m         \u001b[0;32mif\u001b[0m \u001b[0mkeys\u001b[0m \u001b[0;32mis\u001b[0m \u001b[0;32mNone\u001b[0m\u001b[0;34m:\u001b[0m\u001b[0;34m\u001b[0m\u001b[0m\n",
            "\u001b[0;31mValueError\u001b[0m: No objects to concatenate"
          ],
          "ename": "ValueError",
          "evalue": "No objects to concatenate",
          "output_type": "error"
        }
      ]
    },
    {
      "cell_type": "code",
      "source": [
        "# Delay analysis for period 2014-2018\n",
        "# Average delay time is equal to sum of ARR_DELAY devided by number of these delays\n",
        "a_average_flight_delay_dest = a_with_delay_dest['ARR_DELAY'].mean()\n",
        "a_median_flight_delay_dest = a_with_delay_dest['ARR_DELAY'].median()\n",
        "a_skewness_flight_delay_dest = a_with_delay_dest['ARR_DELAY'].skew()\n",
        "a_kurtosis_flight_delay_dest = a_with_delay_dest['ARR_DELAY'].kurtosis()\n",
        "\n",
        "print(\n",
        "    f\"Datas of Arrival delay flights - Mean value: {a_average_flight_delay_dest} \"\n",
        "    f\"Median value: {a_median_flight_delay_dest} Skewness: {a_skewness_flight_delay_dest} \"\n",
        "    f\"Kurtosis: {a_kurtosis_flight_delay_dest}\")\n",
        "\n",
        "a_with_delay_dest.hist(column='ARR_DELAY', bins=100)\n",
        "plt.title('ARRIVAL delays 2014-2018', fontsize=16)\n",
        "plt.ylabel('Flight', fontsize=14)\n",
        "plt.xlabel('Minutes', fontsize=14)\n",
        "plt.show()\n"
      ],
      "metadata": {
        "execution": {
          "iopub.status.busy": "2024-10-30T16:53:17.101281Z",
          "iopub.execute_input": "2024-10-30T16:53:17.101739Z",
          "iopub.status.idle": "2024-10-30T16:53:17.126651Z",
          "shell.execute_reply.started": "2024-10-30T16:53:17.101673Z",
          "shell.execute_reply": "2024-10-30T16:53:17.124059Z"
        },
        "trusted": true,
        "id": "QvADrPD2WTV0",
        "outputId": "47fc73eb-2d47-4d82-9cc8-bfa056ba37e3"
      },
      "execution_count": null,
      "outputs": [
        {
          "traceback": [
            "\u001b[0;31m---------------------------------------------------------------------------\u001b[0m",
            "\u001b[0;31mNameError\u001b[0m                                 Traceback (most recent call last)",
            "\u001b[0;32m<ipython-input-4-6528617f1312>\u001b[0m in \u001b[0;36m<module>\u001b[0;34m\u001b[0m\n\u001b[1;32m      1\u001b[0m \u001b[0;31m# Delay analysis for period 2014-2018\u001b[0m\u001b[0;34m\u001b[0m\u001b[0;34m\u001b[0m\u001b[0m\n\u001b[1;32m      2\u001b[0m \u001b[0;31m# Average delay time is equal to sum of ARR_DELAY devided by number of these delays\u001b[0m\u001b[0;34m\u001b[0m\u001b[0;34m\u001b[0m\u001b[0m\n\u001b[0;32m----> 3\u001b[0;31m \u001b[0ma_average_flight_delay_dest\u001b[0m \u001b[0;34m=\u001b[0m \u001b[0ma_with_delay_dest\u001b[0m\u001b[0;34m[\u001b[0m\u001b[0;34m'ARR_DELAY'\u001b[0m\u001b[0;34m]\u001b[0m\u001b[0;34m.\u001b[0m\u001b[0mmean\u001b[0m\u001b[0;34m(\u001b[0m\u001b[0;34m)\u001b[0m\u001b[0;34m\u001b[0m\u001b[0m\n\u001b[0m\u001b[1;32m      4\u001b[0m \u001b[0ma_median_flight_delay_dest\u001b[0m \u001b[0;34m=\u001b[0m \u001b[0ma_with_delay_dest\u001b[0m\u001b[0;34m[\u001b[0m\u001b[0;34m'ARR_DELAY'\u001b[0m\u001b[0;34m]\u001b[0m\u001b[0;34m.\u001b[0m\u001b[0mmedian\u001b[0m\u001b[0;34m(\u001b[0m\u001b[0;34m)\u001b[0m\u001b[0;34m\u001b[0m\u001b[0m\n\u001b[1;32m      5\u001b[0m \u001b[0ma_skewness_flight_delay_dest\u001b[0m \u001b[0;34m=\u001b[0m \u001b[0ma_with_delay_dest\u001b[0m\u001b[0;34m[\u001b[0m\u001b[0;34m'ARR_DELAY'\u001b[0m\u001b[0;34m]\u001b[0m\u001b[0;34m.\u001b[0m\u001b[0mskew\u001b[0m\u001b[0;34m(\u001b[0m\u001b[0;34m)\u001b[0m\u001b[0;34m\u001b[0m\u001b[0m\n",
            "\u001b[0;31mNameError\u001b[0m: name 'a_with_delay_dest' is not defined"
          ],
          "ename": "NameError",
          "evalue": "name 'a_with_delay_dest' is not defined",
          "output_type": "error"
        }
      ]
    },
    {
      "cell_type": "code",
      "source": [
        "# Datas matching theoretical distribution\n",
        "arr = a_with_delay_dest['ARR_DELAY'].to_numpy()\n",
        "# print(arr.shape, np.amin(arr), np.amax(arr))\n",
        "sns.distplot(arr, label='Delay')\n",
        "plt.show()\n",
        "sns.distplot(random.pareto(a=2, size=10000), label='pareto')\n",
        "# sns.distplot(random.exponential(scale=2, size=10), hist=False, label='exponential')\n",
        "\n",
        "plt.show()"
      ],
      "metadata": {
        "execution": {
          "iopub.status.busy": "2022-06-28T09:05:20.437416Z",
          "iopub.execute_input": "2022-06-28T09:05:20.437768Z",
          "iopub.status.idle": "2022-06-28T09:05:25.108777Z",
          "shell.execute_reply.started": "2022-06-28T09:05:20.437713Z",
          "shell.execute_reply": "2022-06-28T09:05:25.107608Z"
        },
        "trusted": true,
        "id": "G_hsWARNWTV0"
      },
      "execution_count": null,
      "outputs": []
    },
    {
      "cell_type": "code",
      "source": [
        "year = ['2014', '2015', '2016', '2017', '2018']  # for x axis of the plot"
      ],
      "metadata": {
        "execution": {
          "iopub.status.busy": "2022-06-28T06:44:25.560687Z",
          "iopub.status.idle": "2022-06-28T06:44:25.561446Z"
        },
        "trusted": true,
        "id": "L8E0gZeAWTV0"
      },
      "execution_count": null,
      "outputs": []
    },
    {
      "cell_type": "code",
      "source": [
        "# Delay per year (2014-2018), mean and median value\n",
        "mean_value_year = []\n",
        "median_value_year = []\n",
        "for csv_list_year_delay in csv_list_delay:\n",
        "    mean_value_year.append(csv_list_year_delay['ARR_DELAY'].mean())\n",
        "    median_value_year.append(csv_list_year_delay['ARR_DELAY'].median())\n",
        "\n",
        "# Plot mean and median values per year\n",
        "X = np.arange(1,6)\n",
        "fig = plt.figure()\n",
        "ax = fig.add_axes([0,0,1,1])\n",
        "p1 = ax.bar(X - 0.20, mean_value_year, color = 'b', width = 0.40)\n",
        "p2 = ax.bar(X + 0.20, median_value_year, color = 'g', width = 0.40)\n",
        "plt.xticks(X, year)\n",
        "ax.set_xlabel('Year')\n",
        "ax.set_ylabel('Minutes[min]')\n",
        "ax.set_title('Mean and median values per year')\n",
        "ax.legend(labels=['mean', 'median'])\n",
        "\n"
      ],
      "metadata": {
        "execution": {
          "iopub.status.busy": "2022-06-28T06:44:25.562836Z",
          "iopub.status.idle": "2022-06-28T06:44:25.563592Z"
        },
        "trusted": true,
        "id": "LKrFnDdYWTV1"
      },
      "execution_count": null,
      "outputs": []
    },
    {
      "cell_type": "code",
      "source": [
        "# Delay per month (2014-2018), mean and median value\n",
        "\n",
        "for i in range(len(csv_list_delay)):\n",
        "    csv_list_delay[i]['FL_DATE_month'] = pd.to_datetime(csv_list_delay[i]['FL_DATE']).dt.month\n",
        "\n",
        "    plt.figure(figsize=(25, 12)).subplots_adjust(hspace = 0.5)\n",
        "\n",
        "    plt.subplot(2, 2 ,1)\n",
        "    csv_list_delay[i].groupby('FL_DATE_month').ARR_DELAY.mean().plot.bar()\n",
        "    plt.title('Mean ARRIVAL delays by month for ' + year[i], fontsize=16)\n",
        "    plt.ylabel('Minutes', fontsize=14)\n",
        "    plt.xlabel('month of the year', fontsize=14)\n",
        "\n",
        "    plt.subplot(2, 2 ,2)\n",
        "    csv_list_delay[i].groupby('FL_DATE_month').ARR_DELAY.median().plot.bar()\n",
        "    plt.title('Median ARRIVAL delays by month for ' + year[i], fontsize=16)\n",
        "    plt.ylabel('Minutes', fontsize=14)\n",
        "    plt.xlabel('month of the year', fontsize=14)\n",
        "\n",
        "    plt.show()"
      ],
      "metadata": {
        "execution": {
          "iopub.status.busy": "2022-06-28T06:44:25.565058Z",
          "iopub.status.idle": "2022-06-28T06:44:25.565806Z"
        },
        "trusted": true,
        "id": "_juH7nf2WTV1"
      },
      "execution_count": null,
      "outputs": []
    },
    {
      "cell_type": "code",
      "source": [
        "# Delay per Week of year (2014-2018), mean and median value\n",
        "\n",
        "for i in range(len(csv_list_delay)):\n",
        "    csv_list_delay[i]['FL_DATE_weekofyear'] = pd.to_datetime(csv_list_delay[i]['FL_DATE']).dt.weekofyear\n",
        "\n",
        "    plt.figure(figsize=(25, 12)).subplots_adjust(hspace = 0.5)\n",
        "\n",
        "    plt.subplot(2, 2 ,1)\n",
        "    csv_list_delay[i].groupby('FL_DATE_weekofyear').ARR_DELAY.mean().plot.bar()\n",
        "    plt.title('Mean ARRIVAL delays by Week of year for ' + year[i], fontsize=16)\n",
        "    plt.ylabel('Minutes', fontsize=14)\n",
        "    plt.xlabel('Week', fontsize=14)\n",
        "\n",
        "    plt.subplot(2, 2 ,2)\n",
        "    csv_list_delay[i].groupby('FL_DATE_weekofyear').ARR_DELAY.median().plot.bar()\n",
        "    plt.title('Median ARRIVAL delays by Week of year for ' + year[i], fontsize=16)\n",
        "    plt.ylabel('Minutes', fontsize=14)\n",
        "    plt.xlabel('Week', fontsize=14)\n",
        "\n",
        "    plt.show()"
      ],
      "metadata": {
        "execution": {
          "iopub.status.busy": "2022-06-28T06:44:25.567223Z",
          "iopub.status.idle": "2022-06-28T06:44:25.567953Z"
        },
        "trusted": true,
        "id": "51U7MwGIWTV1"
      },
      "execution_count": null,
      "outputs": []
    },
    {
      "cell_type": "code",
      "source": [
        "# Delay per Day of week (2014-2018), mean and median value\n",
        "\n",
        "for i in range(len(csv_list_delay)):\n",
        "    csv_list_delay[i]['FL_DATE_dayofweek'] = pd.to_datetime(csv_list_delay[i]['FL_DATE']).dt.dayofweek\n",
        "\n",
        "    plt.figure(figsize=(25, 12)).subplots_adjust(hspace = 0.5)\n",
        "\n",
        "    plt.subplot(2, 2 ,1)\n",
        "    csv_list_delay[i].groupby('FL_DATE_dayofweek').ARR_DELAY.mean().plot.bar()\n",
        "    plt.title('Mean ARRIVAL delays by Day of week for ' + year[i], fontsize=16)\n",
        "    plt.ylabel('Minutes', fontsize=14)\n",
        "    plt.xlabel('Day of week', fontsize=14)\n",
        "\n",
        "    plt.subplot(2, 2 ,2)\n",
        "    csv_list_delay[i].groupby('FL_DATE_dayofweek').ARR_DELAY.median().plot.bar()\n",
        "    plt.title('Median ARRIVAL delays by Day of week for ' + year[i], fontsize=16)\n",
        "    plt.ylabel('Minutes', fontsize=14)\n",
        "    plt.xlabel('Day of week', fontsize=14)\n",
        "\n",
        "    plt.show()"
      ],
      "metadata": {
        "execution": {
          "iopub.status.busy": "2022-06-28T06:44:25.569608Z",
          "iopub.status.idle": "2022-06-28T06:44:25.570374Z"
        },
        "trusted": true,
        "id": "Vfk6v0L_WTV1"
      },
      "execution_count": null,
      "outputs": []
    },
    {
      "cell_type": "code",
      "source": [
        "# Delay per Carrier (2014-2018), mean and median value\n",
        "\n",
        "for i in range(len(csv_list_delay)):\n",
        "    plt.figure(figsize=(25, 12)).subplots_adjust(hspace = 0.5)\n",
        "\n",
        "    plt.subplot(2, 2 ,1)\n",
        "    csv_list_delay[i].groupby('OP_CARRIER').ARR_DELAY.mean().sort_values(ascending=False).plot.bar()\n",
        "    plt.title('Mean ARRIVAL delays by Carrier for ' + year[i], fontsize=16)\n",
        "    plt.ylabel('Minutes', fontsize=14)\n",
        "    plt.xlabel('Airline', fontsize=14)\n",
        "\n",
        "    plt.subplot(2, 2 ,2)\n",
        "    csv_list_delay[i].groupby('OP_CARRIER').ARR_DELAY.median().sort_values(ascending=False).plot.bar()\n",
        "    plt.title('Median ARRIVAL delays by Carrier for ' + year[i], fontsize=16)\n",
        "    plt.ylabel('Minutes', fontsize=14)\n",
        "    plt.xlabel('Airline', fontsize=14)\n",
        "\n",
        "    plt.show()"
      ],
      "metadata": {
        "execution": {
          "iopub.status.busy": "2022-06-28T06:44:25.571778Z",
          "iopub.status.idle": "2022-06-28T06:44:25.572586Z"
        },
        "trusted": true,
        "id": "mNhZ7gPxWTV2"
      },
      "execution_count": null,
      "outputs": []
    },
    {
      "cell_type": "code",
      "source": [
        "# Count number of delays per airline\n",
        "count = []\n",
        "for i in range(len(csv_list_delay)):\n",
        "    # plt.figure()\n",
        "    count.append(csv_list_delay[i].groupby('OP_CARRIER').ARR_DELAY.count().sort_values(ascending=False))\n",
        "\n",
        "count_disp = pd.concat(count, axis=1, ignore_index=True, sort='False')\n",
        "count_disp.columns = ['2014', '2015', '2016', '2017', '2018']\n",
        "display(count_disp)"
      ],
      "metadata": {
        "execution": {
          "iopub.status.busy": "2022-06-28T06:44:25.574013Z",
          "iopub.status.idle": "2022-06-28T06:44:25.574797Z"
        },
        "trusted": true,
        "id": "JbIVdoNFWTV2"
      },
      "execution_count": null,
      "outputs": []
    },
    {
      "cell_type": "code",
      "source": [
        "# Delay per Origin (2014-2018), mean and median value\n",
        "\n",
        "for i in range(len(csv_list_delay)):\n",
        "    plt.figure(figsize=(25, 12)).subplots_adjust(hspace = 1)\n",
        "\n",
        "    plt.subplot(2, 2 ,1)\n",
        "    mean_origin = csv_list_delay[i].groupby('ORIGIN').ARR_DELAY.mean().sort_values(ascending=False)\n",
        "    mean_origin[:20].plot.bar()\n",
        "    plt.title('Mean ARRIVAL delays by Origin for ' + year[i], fontsize=16)\n",
        "    plt.ylabel('Minutes', fontsize=14)\n",
        "    plt.xlabel('City', fontsize=14)\n",
        "\n",
        "    plt.subplot(2, 2 ,2)\n",
        "    median_origin = csv_list_delay[i].groupby('ORIGIN').ARR_DELAY.median().sort_values(ascending=False)\n",
        "    median_origin[:20].plot.bar()\n",
        "    plt.title('Median ARRIVAL delays by Origin for ' + year[i], fontsize=16)\n",
        "    plt.ylabel('Minutes', fontsize=14)\n",
        "    plt.xlabel('City', fontsize=14)\n",
        "\n",
        "    plt.show()"
      ],
      "metadata": {
        "execution": {
          "iopub.status.busy": "2022-06-28T06:44:25.576255Z",
          "iopub.status.idle": "2022-06-28T06:44:25.577005Z"
        },
        "trusted": true,
        "id": "xX2qYGJFWTV2"
      },
      "execution_count": null,
      "outputs": []
    },
    {
      "cell_type": "code",
      "source": [
        "# Delay per Dest (2014-2018), mean and median value\n",
        "\n",
        "for i in range(len(csv_list_delay)):\n",
        "    plt.figure(figsize=(25, 12)).subplots_adjust(hspace = 1)\n",
        "\n",
        "    plt.subplot(2, 2 ,1)\n",
        "    mean_origin = csv_list_delay[i].groupby('DEST').ARR_DELAY.mean().sort_values(ascending=False)\n",
        "    mean_origin[:20].plot.bar()\n",
        "    plt.title('Mean ARRIVAL delays by Destination for ' + year[i], fontsize=16)\n",
        "    plt.ylabel('Minutes', fontsize=14)\n",
        "    plt.xlabel('City', fontsize=14)\n",
        "\n",
        "    plt.subplot(2, 2 ,2)\n",
        "    median_origin = csv_list_delay[i].groupby('DEST').ARR_DELAY.median().sort_values(ascending=False)\n",
        "    median_origin[:20].plot.bar()\n",
        "    plt.title('Median ARRIVAL delays by Destination for ' + year[i], fontsize=16)\n",
        "    plt.ylabel('Minutes', fontsize=14)\n",
        "    plt.xlabel('City', fontsize=14)\n",
        "\n",
        "    plt.show()"
      ],
      "metadata": {
        "execution": {
          "iopub.status.busy": "2022-06-28T06:44:25.57843Z",
          "iopub.status.idle": "2022-06-28T06:44:25.57918Z"
        },
        "trusted": true,
        "id": "dgo9--jgWTV2"
      },
      "execution_count": null,
      "outputs": []
    },
    {
      "cell_type": "code",
      "source": [
        "# Delay per quarter (2014-2018), mean and median value\n",
        "\n",
        "for i in range(len(csv_list_delay)):\n",
        "    csv_list_delay[i]['FL_DATE_quarter'] = pd.to_datetime(csv_list_delay[i]['FL_DATE']).dt.quarter\n",
        "\n",
        "    plt.figure(figsize=(25, 12)).subplots_adjust(hspace = 0.5)\n",
        "\n",
        "    plt.subplot(2, 2 ,1)\n",
        "    csv_list_delay[i].groupby('FL_DATE_quarter').ARR_DELAY.mean().plot.bar()\n",
        "    plt.title('Mean ARRIVAL delays by quarter for ' + year[i], fontsize=16)\n",
        "    plt.ylabel('Minutes', fontsize=14)\n",
        "    plt.xlabel('quarter of the year', fontsize=14)\n",
        "\n",
        "    plt.subplot(2, 2 ,2)\n",
        "    csv_list_delay[i].groupby('FL_DATE_quarter').ARR_DELAY.median().plot.bar()\n",
        "    plt.title('Median ARRIVAL delays by quarter for ' + year[i], fontsize=16)\n",
        "    plt.ylabel('Minutes', fontsize=14)\n",
        "    plt.xlabel('quarter of the year', fontsize=14)\n",
        "\n",
        "    plt.show()"
      ],
      "metadata": {
        "execution": {
          "iopub.status.busy": "2022-06-28T06:44:25.580592Z",
          "iopub.status.idle": "2022-06-28T06:44:25.581409Z"
        },
        "trusted": true,
        "id": "z5xONbRuWTV2"
      },
      "execution_count": null,
      "outputs": []
    },
    {
      "cell_type": "code",
      "source": [
        "# Different types of delays by year (mean and median values)\n",
        "delays = ['CARRIER_DELAY', 'WEATHER_DELAY', 'NAS_DELAY', 'SECURITY_DELAY', 'LATE_AIRCRAFT_DELAY']\n",
        "for i in range(len(csv_list_delay)):\n",
        "    mean2 = csv_list_delay[i][['CARRIER_DELAY', 'WEATHER_DELAY', 'NAS_DELAY', 'SECURITY_DELAY', 'LATE_AIRCRAFT_DELAY']].mean()\n",
        "    median2 = csv_list_delay[i][['CARRIER_DELAY', 'WEATHER_DELAY', 'NAS_DELAY', 'SECURITY_DELAY', 'LATE_AIRCRAFT_DELAY']].median()\n",
        "    X = np.arange(len(delays))\n",
        "    fig = plt.figure()\n",
        "    plt.bar(X - 0.2, mean2, color = 'b', width = 0.40, label = 'Mean')\n",
        "    plt.bar(X + 0.2, median2, color = 'g', width = 0.40, label = 'Median')\n",
        "    plt.xticks(X, delays, rotation = 45)\n",
        "    plt.title('Delays per type for ' + year[i], fontsize=16)\n",
        "    plt.ylabel('Minutes', fontsize=14)\n",
        "    plt.xlabel('Delay', fontsize=14)\n",
        "    plt.legend()\n",
        "    plt.show()"
      ],
      "metadata": {
        "execution": {
          "iopub.status.busy": "2022-06-28T06:44:25.582942Z",
          "iopub.status.idle": "2022-06-28T06:44:25.583736Z"
        },
        "trusted": true,
        "id": "OBAu_vBOWTV2"
      },
      "execution_count": null,
      "outputs": []
    }
  ]
}